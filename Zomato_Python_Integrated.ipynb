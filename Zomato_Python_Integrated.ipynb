{
 "cells": [
  {
   "cell_type": "code",
   "execution_count": 12,
   "metadata": {},
   "outputs": [],
   "source": [
    "import numpy as np #NumPy is a general-purpose array-processing package.\n",
    "import pandas as pd #It contains high-level data structures and manipulation tools designed to make data analysis fast and easy.\n",
    "import matplotlib.pyplot as plt #It is a Plotting Library\n",
    "from sklearn.feature_selection import RFE\n",
    "from sklearn.linear_model import LogisticRegression\n",
    "from sklearn.model_selection import train_test_split\n",
    "import pandas as pd\n",
    "import numpy as np\n",
    "import matplotlib.pyplot as plt\n",
    "import seaborn as sns\n",
    "from mlxtend.frequent_patterns import apriori, association_rules"
   ]
  },
  {
   "cell_type": "code",
   "execution_count": 13,
   "metadata": {},
   "outputs": [],
   "source": [
    "from mlxtend.frequent_patterns import apriori, association_rules"
   ]
  },
  {
   "cell_type": "code",
   "execution_count": 14,
   "metadata": {},
   "outputs": [],
   "source": [
    "#zomato = pd.read_excel('C:/Users/shubhhh/Downloads/Zomato_Dev.xlsb', engine='pyxlsb')\n",
    "zomato=pd.read_csv('zomato.csv')"
   ]
  },
  {
   "cell_type": "markdown",
   "metadata": {},
   "source": [
    "# CODE CLEANUP"
   ]
  },
  {
   "cell_type": "code",
   "execution_count": 15,
   "metadata": {},
   "outputs": [],
   "source": [
    "zomato=zomato.drop(['url','phone'],axis=1) "
   ]
  },
  {
   "cell_type": "code",
   "execution_count": 16,
   "metadata": {},
   "outputs": [],
   "source": [
    "zomato.isnull().sum()\n",
    "zomato.dropna(how='any',inplace=True)"
   ]
  },
  {
   "cell_type": "code",
   "execution_count": 17,
   "metadata": {},
   "outputs": [],
   "source": [
    "zomato = zomato.rename(columns={'approx_cost(for two people)':'cost','listed_in(type)':'type',\n",
    "                                  'listed_in(city)':'city'})"
   ]
  },
  {
   "cell_type": "code",
   "execution_count": 18,
   "metadata": {},
   "outputs": [],
   "source": [
    "zomato['cost'] = zomato['cost'].astype(str)\n",
    "zomato['cost'] = zomato['cost'].apply(lambda x: x.replace(',',''))\n",
    "zomato['cost'] = zomato['cost'].astype(float)"
   ]
  },
  {
   "cell_type": "code",
   "execution_count": 19,
   "metadata": {},
   "outputs": [],
   "source": [
    "zomato['rate'].unique()\n",
    "zomato = zomato.loc[zomato.rate !='NEW']\n",
    "zomato = zomato.loc[zomato.rate !='-'].reset_index(drop=True)\n",
    "remove_slash = lambda x: x.replace('/5', '') if type(x) == np.str else x\n",
    "zomato.rate = zomato.rate.apply(remove_slash).str.strip().astype('float')"
   ]
  },
  {
   "cell_type": "code",
   "execution_count": 20,
   "metadata": {},
   "outputs": [],
   "source": [
    "#Create a copy for apriori\n",
    "zomatoCopy = zomato"
   ]
  },
  {
   "cell_type": "code",
   "execution_count": 21,
   "metadata": {},
   "outputs": [
    {
     "data": {
      "text/html": [
       "<div>\n",
       "<style scoped>\n",
       "    .dataframe tbody tr th:only-of-type {\n",
       "        vertical-align: middle;\n",
       "    }\n",
       "\n",
       "    .dataframe tbody tr th {\n",
       "        vertical-align: top;\n",
       "    }\n",
       "\n",
       "    .dataframe thead th {\n",
       "        text-align: right;\n",
       "    }\n",
       "</style>\n",
       "<table border=\"1\" class=\"dataframe\">\n",
       "  <thead>\n",
       "    <tr style=\"text-align: right;\">\n",
       "      <th></th>\n",
       "      <th>address</th>\n",
       "      <th>name</th>\n",
       "      <th>online_order</th>\n",
       "      <th>book_table</th>\n",
       "      <th>rate</th>\n",
       "      <th>votes</th>\n",
       "      <th>location</th>\n",
       "      <th>rest_type</th>\n",
       "      <th>dish_liked</th>\n",
       "      <th>cuisines</th>\n",
       "      <th>cost</th>\n",
       "      <th>reviews_list</th>\n",
       "      <th>menu_item</th>\n",
       "      <th>type</th>\n",
       "      <th>city</th>\n",
       "    </tr>\n",
       "  </thead>\n",
       "  <tbody>\n",
       "    <tr>\n",
       "      <th>0</th>\n",
       "      <td>0</td>\n",
       "      <td>0</td>\n",
       "      <td>0</td>\n",
       "      <td>0</td>\n",
       "      <td>4.1</td>\n",
       "      <td>775</td>\n",
       "      <td>0</td>\n",
       "      <td>0</td>\n",
       "      <td>0</td>\n",
       "      <td>0</td>\n",
       "      <td>800.0</td>\n",
       "      <td>0</td>\n",
       "      <td>0</td>\n",
       "      <td>0</td>\n",
       "      <td>0</td>\n",
       "    </tr>\n",
       "    <tr>\n",
       "      <th>1</th>\n",
       "      <td>1</td>\n",
       "      <td>1</td>\n",
       "      <td>0</td>\n",
       "      <td>1</td>\n",
       "      <td>4.1</td>\n",
       "      <td>787</td>\n",
       "      <td>0</td>\n",
       "      <td>0</td>\n",
       "      <td>1</td>\n",
       "      <td>1</td>\n",
       "      <td>800.0</td>\n",
       "      <td>1</td>\n",
       "      <td>0</td>\n",
       "      <td>0</td>\n",
       "      <td>0</td>\n",
       "    </tr>\n",
       "    <tr>\n",
       "      <th>2</th>\n",
       "      <td>2</td>\n",
       "      <td>2</td>\n",
       "      <td>0</td>\n",
       "      <td>1</td>\n",
       "      <td>3.8</td>\n",
       "      <td>918</td>\n",
       "      <td>0</td>\n",
       "      <td>1</td>\n",
       "      <td>2</td>\n",
       "      <td>2</td>\n",
       "      <td>800.0</td>\n",
       "      <td>2</td>\n",
       "      <td>0</td>\n",
       "      <td>0</td>\n",
       "      <td>0</td>\n",
       "    </tr>\n",
       "    <tr>\n",
       "      <th>3</th>\n",
       "      <td>3</td>\n",
       "      <td>3</td>\n",
       "      <td>1</td>\n",
       "      <td>1</td>\n",
       "      <td>3.7</td>\n",
       "      <td>88</td>\n",
       "      <td>0</td>\n",
       "      <td>2</td>\n",
       "      <td>3</td>\n",
       "      <td>3</td>\n",
       "      <td>300.0</td>\n",
       "      <td>3</td>\n",
       "      <td>0</td>\n",
       "      <td>0</td>\n",
       "      <td>0</td>\n",
       "    </tr>\n",
       "    <tr>\n",
       "      <th>4</th>\n",
       "      <td>4</td>\n",
       "      <td>4</td>\n",
       "      <td>1</td>\n",
       "      <td>1</td>\n",
       "      <td>3.8</td>\n",
       "      <td>166</td>\n",
       "      <td>1</td>\n",
       "      <td>0</td>\n",
       "      <td>4</td>\n",
       "      <td>4</td>\n",
       "      <td>600.0</td>\n",
       "      <td>4</td>\n",
       "      <td>0</td>\n",
       "      <td>0</td>\n",
       "      <td>0</td>\n",
       "    </tr>\n",
       "    <tr>\n",
       "      <th>...</th>\n",
       "      <td>...</td>\n",
       "      <td>...</td>\n",
       "      <td>...</td>\n",
       "      <td>...</td>\n",
       "      <td>...</td>\n",
       "      <td>...</td>\n",
       "      <td>...</td>\n",
       "      <td>...</td>\n",
       "      <td>...</td>\n",
       "      <td>...</td>\n",
       "      <td>...</td>\n",
       "      <td>...</td>\n",
       "      <td>...</td>\n",
       "      <td>...</td>\n",
       "      <td>...</td>\n",
       "    </tr>\n",
       "    <tr>\n",
       "      <th>23254</th>\n",
       "      <td>1747</td>\n",
       "      <td>1492</td>\n",
       "      <td>0</td>\n",
       "      <td>0</td>\n",
       "      <td>3.8</td>\n",
       "      <td>128</td>\n",
       "      <td>49</td>\n",
       "      <td>33</td>\n",
       "      <td>1797</td>\n",
       "      <td>856</td>\n",
       "      <td>1200.0</td>\n",
       "      <td>2469</td>\n",
       "      <td>0</td>\n",
       "      <td>6</td>\n",
       "      <td>29</td>\n",
       "    </tr>\n",
       "    <tr>\n",
       "      <th>23255</th>\n",
       "      <td>1492</td>\n",
       "      <td>1316</td>\n",
       "      <td>1</td>\n",
       "      <td>1</td>\n",
       "      <td>3.9</td>\n",
       "      <td>77</td>\n",
       "      <td>49</td>\n",
       "      <td>58</td>\n",
       "      <td>55</td>\n",
       "      <td>161</td>\n",
       "      <td>2000.0</td>\n",
       "      <td>2201</td>\n",
       "      <td>0</td>\n",
       "      <td>6</td>\n",
       "      <td>29</td>\n",
       "    </tr>\n",
       "    <tr>\n",
       "      <th>23256</th>\n",
       "      <td>1499</td>\n",
       "      <td>1318</td>\n",
       "      <td>1</td>\n",
       "      <td>1</td>\n",
       "      <td>2.8</td>\n",
       "      <td>161</td>\n",
       "      <td>49</td>\n",
       "      <td>15</td>\n",
       "      <td>1569</td>\n",
       "      <td>777</td>\n",
       "      <td>1200.0</td>\n",
       "      <td>2203</td>\n",
       "      <td>0</td>\n",
       "      <td>6</td>\n",
       "      <td>29</td>\n",
       "    </tr>\n",
       "    <tr>\n",
       "      <th>23257</th>\n",
       "      <td>4378</td>\n",
       "      <td>846</td>\n",
       "      <td>1</td>\n",
       "      <td>1</td>\n",
       "      <td>2.5</td>\n",
       "      <td>81</td>\n",
       "      <td>49</td>\n",
       "      <td>15</td>\n",
       "      <td>5193</td>\n",
       "      <td>503</td>\n",
       "      <td>800.0</td>\n",
       "      <td>14055</td>\n",
       "      <td>0</td>\n",
       "      <td>6</td>\n",
       "      <td>29</td>\n",
       "    </tr>\n",
       "    <tr>\n",
       "      <th>23258</th>\n",
       "      <td>4375</td>\n",
       "      <td>3155</td>\n",
       "      <td>1</td>\n",
       "      <td>0</td>\n",
       "      <td>4.3</td>\n",
       "      <td>236</td>\n",
       "      <td>50</td>\n",
       "      <td>10</td>\n",
       "      <td>5189</td>\n",
       "      <td>161</td>\n",
       "      <td>2500.0</td>\n",
       "      <td>14031</td>\n",
       "      <td>0</td>\n",
       "      <td>6</td>\n",
       "      <td>29</td>\n",
       "    </tr>\n",
       "  </tbody>\n",
       "</table>\n",
       "<p>23259 rows × 15 columns</p>\n",
       "</div>"
      ],
      "text/plain": [
       "       address  name  online_order  book_table  rate  votes  location  \\\n",
       "0            0     0             0           0   4.1    775         0   \n",
       "1            1     1             0           1   4.1    787         0   \n",
       "2            2     2             0           1   3.8    918         0   \n",
       "3            3     3             1           1   3.7     88         0   \n",
       "4            4     4             1           1   3.8    166         1   \n",
       "...        ...   ...           ...         ...   ...    ...       ...   \n",
       "23254     1747  1492             0           0   3.8    128        49   \n",
       "23255     1492  1316             1           1   3.9     77        49   \n",
       "23256     1499  1318             1           1   2.8    161        49   \n",
       "23257     4378   846             1           1   2.5     81        49   \n",
       "23258     4375  3155             1           0   4.3    236        50   \n",
       "\n",
       "       rest_type  dish_liked  cuisines    cost  reviews_list  menu_item  type  \\\n",
       "0              0           0         0   800.0             0          0     0   \n",
       "1              0           1         1   800.0             1          0     0   \n",
       "2              1           2         2   800.0             2          0     0   \n",
       "3              2           3         3   300.0             3          0     0   \n",
       "4              0           4         4   600.0             4          0     0   \n",
       "...          ...         ...       ...     ...           ...        ...   ...   \n",
       "23254         33        1797       856  1200.0          2469          0     6   \n",
       "23255         58          55       161  2000.0          2201          0     6   \n",
       "23256         15        1569       777  1200.0          2203          0     6   \n",
       "23257         15        5193       503   800.0         14055          0     6   \n",
       "23258         10        5189       161  2500.0         14031          0     6   \n",
       "\n",
       "       city  \n",
       "0         0  \n",
       "1         0  \n",
       "2         0  \n",
       "3         0  \n",
       "4         0  \n",
       "...     ...  \n",
       "23254    29  \n",
       "23255    29  \n",
       "23256    29  \n",
       "23257    29  \n",
       "23258    29  \n",
       "\n",
       "[23259 rows x 15 columns]"
      ]
     },
     "execution_count": 21,
     "metadata": {},
     "output_type": "execute_result"
    }
   ],
   "source": [
    "def Encode(zomato):\n",
    "    for column in zomato.columns[~zomato.columns.isin(['rate', 'cost', 'votes'])]:\n",
    "        zomato[column] = zomato[column].factorize()[0]\n",
    "    return zomato\n",
    "\n",
    "zomato_en = Encode(zomato.copy())\n",
    "zomato_en"
   ]
  },
  {
   "cell_type": "code",
   "execution_count": 22,
   "metadata": {},
   "outputs": [],
   "source": [
    "dish1= zomato[\"dish_liked\"].str.split(\",\", n = 3, expand = True) \n",
    "zomato['Dish-1']=dish1[0]\n",
    "zomato['Dish-2']=dish1[1]\n",
    "zomato['Dish-3']=dish1[2]"
   ]
  },
  {
   "cell_type": "code",
   "execution_count": 23,
   "metadata": {},
   "outputs": [],
   "source": [
    "cuisine1=zomato[\"cuisines\"].str.split(\",\", n = 3, expand = True) \n",
    "zomato['Cuisine-1']=cuisine1[0]\n",
    "zomato['Cuisine-2']=cuisine1[1]\n",
    "zomato['Cuisine-3']=cuisine1[2]"
   ]
  },
  {
   "cell_type": "code",
   "execution_count": 24,
   "metadata": {},
   "outputs": [],
   "source": [
    "zomato=zomato.drop(['address','reviews_list','dish_liked','cuisines'],axis=1)"
   ]
  },
  {
   "cell_type": "code",
   "execution_count": 25,
   "metadata": {},
   "outputs": [],
   "source": [
    "li=zomato[\"rest_type\"].str.split(\",\", n = 3, expand = True)\n",
    "zomato[\"rest_type_unique\"] = li[0]"
   ]
  },
  {
   "cell_type": "code",
   "execution_count": 26,
   "metadata": {},
   "outputs": [],
   "source": [
    "zomato[\"rest_type_unique\"].replace({\"Beverage Shop\": \"Bar\", \"Dhaba\": \"Casual Dining\",\n",
    "                         \"Cafe\": \"Quick Bites\",\n",
    "                         \"Food Truck\": \"Quick Bites\",\n",
    "                         \"Club\": \"Pub\"   }, inplace=True)"
   ]
  },
  {
   "cell_type": "code",
   "execution_count": 27,
   "metadata": {},
   "outputs": [],
   "source": [
    "def func(a):\n",
    "    if \"Koramangala\" in a:\n",
    "        return \"ball\"\n",
    "    elif \"Whitefield\" in a:\n",
    "        return \"Whitefield\"\n",
    "    else:\n",
    "        return a\n",
    "zomato[\"Area\"] = zomato.location.apply(lambda x: func(x))"
   ]
  },
  {
   "cell_type": "markdown",
   "metadata": {},
   "source": [
    "# EDA"
   ]
  },
  {
   "cell_type": "code",
   "execution_count": 28,
   "metadata": {},
   "outputs": [
    {
     "data": {
      "text/plain": [
       "<seaborn.axisgrid.FacetGrid at 0x20693586948>"
      ]
     },
     "execution_count": 28,
     "metadata": {},
     "output_type": "execute_result"
    },
    {
     "data": {
      "image/png": "[encoded data removed]",
      "text/plain": [
       "<Figure size 360x360 with 1 Axes>"
      ]
     },
     "metadata": {
      "needs_background": "light"
     },
     "output_type": "display_data"
    }
   ],
   "source": [
    "#visualizing the count of resturant and rating\n",
    "sns.catplot(x = 'rate', data = zomato , kind ='count')"
   ]
  },
  {
   "cell_type": "markdown",
   "metadata": {},
   "source": [
    "###tocheck"
   ]
  },
  {
   "cell_type": "code",
   "execution_count": 29,
   "metadata": {},
   "outputs": [
    {
     "data": {
      "text/html": [
       "<div>\n",
       "<style scoped>\n",
       "    .dataframe tbody tr th:only-of-type {\n",
       "        vertical-align: middle;\n",
       "    }\n",
       "\n",
       "    .dataframe tbody tr th {\n",
       "        vertical-align: top;\n",
       "    }\n",
       "\n",
       "    .dataframe thead th {\n",
       "        text-align: right;\n",
       "    }\n",
       "</style>\n",
       "<table border=\"1\" class=\"dataframe\">\n",
       "  <thead>\n",
       "    <tr style=\"text-align: right;\">\n",
       "      <th></th>\n",
       "      <th>Area</th>\n",
       "      <th>name</th>\n",
       "    </tr>\n",
       "  </thead>\n",
       "  <tbody>\n",
       "    <tr>\n",
       "      <th>77</th>\n",
       "      <td>ball</td>\n",
       "      <td>481</td>\n",
       "    </tr>\n",
       "    <tr>\n",
       "      <th>73</th>\n",
       "      <td>Whitefield</td>\n",
       "      <td>319</td>\n",
       "    </tr>\n",
       "    <tr>\n",
       "      <th>25</th>\n",
       "      <td>Indiranagar</td>\n",
       "      <td>306</td>\n",
       "    </tr>\n",
       "    <tr>\n",
       "      <th>22</th>\n",
       "      <td>HSR</td>\n",
       "      <td>272</td>\n",
       "    </tr>\n",
       "    <tr>\n",
       "      <th>43</th>\n",
       "      <td>Marathahalli</td>\n",
       "      <td>223</td>\n",
       "    </tr>\n",
       "    <tr>\n",
       "      <th>0</th>\n",
       "      <td>BTM</td>\n",
       "      <td>191</td>\n",
       "    </tr>\n",
       "    <tr>\n",
       "      <th>27</th>\n",
       "      <td>JP Nagar</td>\n",
       "      <td>188</td>\n",
       "    </tr>\n",
       "    <tr>\n",
       "      <th>29</th>\n",
       "      <td>Jayanagar</td>\n",
       "      <td>185</td>\n",
       "    </tr>\n",
       "    <tr>\n",
       "      <th>19</th>\n",
       "      <td>Electronic City</td>\n",
       "      <td>156</td>\n",
       "    </tr>\n",
       "    <tr>\n",
       "      <th>3</th>\n",
       "      <td>Bannerghatta Road</td>\n",
       "      <td>129</td>\n",
       "    </tr>\n",
       "  </tbody>\n",
       "</table>\n",
       "</div>"
      ],
      "text/plain": [
       "                 Area  name\n",
       "77               ball   481\n",
       "73         Whitefield   319\n",
       "25        Indiranagar   306\n",
       "22                HSR   272\n",
       "43       Marathahalli   223\n",
       "0                 BTM   191\n",
       "27           JP Nagar   188\n",
       "29          Jayanagar   185\n",
       "19    Electronic City   156\n",
       "3   Bannerghatta Road   129"
      ]
     },
     "execution_count": 29,
     "metadata": {},
     "output_type": "execute_result"
    }
   ],
   "source": [
    "#count of resturants per area\n",
    "co_rest=zomato.groupby(['Area'])[['name']].nunique()\n",
    "z1= co_rest.reset_index().sort_values(by=['name'],ascending=False).head(n=10)\n",
    "z1"
   ]
  },
  {
   "cell_type": "code",
   "execution_count": 30,
   "metadata": {},
   "outputs": [
    {
     "data": {
      "image/png": "[encoded data removed]",
      "text/plain": [
       "<Figure size 1080x1080 with 1 Axes>"
      ]
     },
     "metadata": {
      "needs_background": "light"
     },
     "output_type": "display_data"
    }
   ],
   "source": [
    "ax = sns.barplot(x=\"Area\", y=\"name\", data=z1)\n",
    "plt.xticks(rotation=90)\n",
    "fig = plt.gcf()\n",
    "fig.set_size_inches(15,15)\n",
    "plt.show()"
   ]
  },
  {
   "cell_type": "code",
   "execution_count": 31,
   "metadata": {},
   "outputs": [
    {
     "data": {
      "text/plain": [
       "Index(['address', 'name', 'online_order', 'book_table', 'rate', 'votes',\n",
       "       'location', 'rest_type', 'dish_liked', 'cuisines', 'cost',\n",
       "       'reviews_list', 'menu_item', 'type', 'city'],\n",
       "      dtype='object')"
      ]
     },
     "execution_count": 31,
     "metadata": {},
     "output_type": "execute_result"
    },
    {
     "data": {
      "image/png": "[encoded data removed]",
      "text/plain": [
       "<Figure size 1080x576 with 2 Axes>"
      ]
     },
     "metadata": {
      "needs_background": "light"
     },
     "output_type": "display_data"
    }
   ],
   "source": [
    "corr = zomato_en.corr(method='kendall')\n",
    "plt.figure(figsize=(15,8))\n",
    "sns.heatmap(corr, annot=True, cmap = 'cool')\n",
    "zomato_en.columns"
   ]
  },
  {
   "cell_type": "code",
   "execution_count": 32,
   "metadata": {},
   "outputs": [
    {
     "name": "stderr",
     "output_type": "stream",
     "text": [
      "C:\\Users\\91959\\anaconda3\\lib\\site-packages\\seaborn\\_decorators.py:43: FutureWarning: Pass the following variable as a keyword arg: x. From version 0.12, the only valid positional argument will be `data`, and passing other arguments without an explicit keyword will result in an error or misinterpretation.\n",
      "  FutureWarning\n"
     ]
    },
    {
     "data": {
      "text/plain": [
       "Text(0.5, 1.0, 'Online/Offline')"
      ]
     },
     "execution_count": 32,
     "metadata": {},
     "output_type": "execute_result"
    },
    {
     "data": {
      "image/png": "[encoded data removed]",
      "text/plain": [
       "<Figure size 432x216 with 1 Axes>"
      ]
     },
     "metadata": {
      "needs_background": "light"
     },
     "output_type": "display_data"
    }
   ],
   "source": [
    "#Restaurants delivering Online or not\n",
    "sns.countplot(zomato['online_order'])\n",
    "fig = plt.gcf()\n",
    "fig.set_size_inches(6,3)\n",
    "plt.title('Online/Offline')"
   ]
  },
  {
   "cell_type": "code",
   "execution_count": 33,
   "metadata": {},
   "outputs": [
    {
     "name": "stderr",
     "output_type": "stream",
     "text": [
      "C:\\Users\\91959\\anaconda3\\lib\\site-packages\\seaborn\\_decorators.py:43: FutureWarning: Pass the following variable as a keyword arg: x. From version 0.12, the only valid positional argument will be `data`, and passing other arguments without an explicit keyword will result in an error or misinterpretation.\n",
      "  FutureWarning\n"
     ]
    },
    {
     "data": {
      "text/plain": [
       "Text(0.5, 1.0, 'table booking')"
      ]
     },
     "execution_count": 33,
     "metadata": {},
     "output_type": "execute_result"
    },
    {
     "data": {
      "image/png": "[encoded data removed]",
      "text/plain": [
       "<Figure size 720x360 with 1 Axes>"
      ]
     },
     "metadata": {
      "needs_background": "light"
     },
     "output_type": "display_data"
    }
   ],
   "source": [
    "sns.countplot(zomato['book_table'])\n",
    "fig = plt.gcf()\n",
    "fig.set_size_inches(10,5)\n",
    "plt.title('table booking')"
   ]
  },
  {
   "cell_type": "code",
   "execution_count": 34,
   "metadata": {},
   "outputs": [
    {
     "data": {
      "image/png": "[encoded data removed]",
      "text/plain": [
       "<Figure size 936x432 with 1 Axes>"
      ]
     },
     "metadata": {
      "needs_background": "light"
     },
     "output_type": "display_data"
    }
   ],
   "source": [
    "plt.rcParams['figure.figsize'] = (13, 6)\n",
    "Y = pd.crosstab(zomato['rate'], zomato['book_table'])\n",
    "Y.div(Y.sum(1).astype(float), axis = 0).plot(kind = 'bar', stacked = True,color=['red','green'])\n",
    "plt.title('table booking vs rate', fontweight = 30, fontsize = 20)\n",
    "plt.legend(loc=\"upper right\")\n",
    "plt.show()"
   ]
  },
  {
   "cell_type": "code",
   "execution_count": 35,
   "metadata": {},
   "outputs": [
    {
     "name": "stderr",
     "output_type": "stream",
     "text": [
      "C:\\Users\\91959\\anaconda3\\lib\\site-packages\\seaborn\\_decorators.py:43: FutureWarning: Pass the following variable as a keyword arg: x. From version 0.12, the only valid positional argument will be `data`, and passing other arguments without an explicit keyword will result in an error or misinterpretation.\n",
      "  FutureWarning\n",
      "C:\\Users\\91959\\anaconda3\\lib\\site-packages\\seaborn\\_decorators.py:43: FutureWarning: Pass the following variable as a keyword arg: x. From version 0.12, the only valid positional argument will be `data`, and passing other arguments without an explicit keyword will result in an error or misinterpretation.\n",
      "  FutureWarning\n",
      "C:\\Users\\91959\\anaconda3\\lib\\site-packages\\seaborn\\_decorators.py:43: FutureWarning: Pass the following variable as a keyword arg: x. From version 0.12, the only valid positional argument will be `data`, and passing other arguments without an explicit keyword will result in an error or misinterpretation.\n",
      "  FutureWarning\n"
     ]
    },
    {
     "data": {
      "text/plain": [
       "Text(0.5, 1.0, 'Location')"
      ]
     },
     "execution_count": 35,
     "metadata": {},
     "output_type": "execute_result"
    },
    {
     "data": {
      "image/png": "[encoded data removed]",
      "text/plain": [
       "<Figure size 1080x432 with 1 Axes>"
      ]
     },
     "metadata": {
      "needs_background": "light"
     },
     "output_type": "display_data"
    }
   ],
   "source": [
    "# Location\n",
    "sns.countplot(zomato['city'])\n",
    "sns.countplot(zomato['city']).set_xticklabels(sns.countplot(zomato['city']).get_xticklabels(), rotation=90, ha=\"right\")\n",
    "fig = plt.gcf()\n",
    "fig.set_size_inches(15,6)\n",
    "plt.title('Location')"
   ]
  },
  {
   "cell_type": "code",
   "execution_count": 36,
   "metadata": {},
   "outputs": [
    {
     "data": {
      "image/png": "[encoded data removed]",
      "text/plain": [
       "<Figure size 936x432 with 1 Axes>"
      ]
     },
     "metadata": {
      "needs_background": "light"
     },
     "output_type": "display_data"
    }
   ],
   "source": [
    "#Location and Rating\n",
    "loc_plt=pd.crosstab(zomato['rate'],zomato['city'])\n",
    "loc_plt.plot(kind='bar',stacked=True);\n",
    "plt.title('Location - Rating',fontsize=15,fontweight='bold')\n",
    "plt.ylabel('Location',fontsize=10,fontweight='bold')\n",
    "plt.xlabel('Rating',fontsize=10,fontweight='bold')\n",
    "plt.xticks(fontsize=10,fontweight='bold')\n",
    "plt.yticks(fontsize=10,fontweight='bold');\n",
    "plt.legend().remove();"
   ]
  },
  {
   "cell_type": "code",
   "execution_count": 37,
   "metadata": {},
   "outputs": [
    {
     "name": "stderr",
     "output_type": "stream",
     "text": [
      "C:\\Users\\91959\\anaconda3\\lib\\site-packages\\seaborn\\_decorators.py:43: FutureWarning: Pass the following variable as a keyword arg: x. From version 0.12, the only valid positional argument will be `data`, and passing other arguments without an explicit keyword will result in an error or misinterpretation.\n",
      "  FutureWarning\n",
      "C:\\Users\\91959\\anaconda3\\lib\\site-packages\\seaborn\\_decorators.py:43: FutureWarning: Pass the following variable as a keyword arg: x. From version 0.12, the only valid positional argument will be `data`, and passing other arguments without an explicit keyword will result in an error or misinterpretation.\n",
      "  FutureWarning\n",
      "C:\\Users\\91959\\anaconda3\\lib\\site-packages\\seaborn\\_decorators.py:43: FutureWarning: Pass the following variable as a keyword arg: x. From version 0.12, the only valid positional argument will be `data`, and passing other arguments without an explicit keyword will result in an error or misinterpretation.\n",
      "  FutureWarning\n"
     ]
    },
    {
     "data": {
      "text/plain": [
       "Text(0.5, 1.0, 'Type of Service')"
      ]
     },
     "execution_count": 37,
     "metadata": {},
     "output_type": "execute_result"
    },
    {
     "data": {
      "image/png": "[encoded data removed]",
      "text/plain": [
       "<Figure size 1080x360 with 1 Axes>"
      ]
     },
     "metadata": {
      "needs_background": "light"
     },
     "output_type": "display_data"
    }
   ],
   "source": [
    "#Types of Services\n",
    "sns.countplot(zomato['type'])\n",
    "sns.countplot(zomato['type']).set_xticklabels(sns.countplot(zomato['type']).get_xticklabels(), rotation=90, ha=\"right\")\n",
    "fig = plt.gcf()\n",
    "fig.set_size_inches(15,5)\n",
    "plt.title('Type of Service')"
   ]
  },
  {
   "cell_type": "code",
   "execution_count": 38,
   "metadata": {},
   "outputs": [
    {
     "data": {
      "image/png": "[encoded data removed]",
      "text/plain": [
       "<Figure size 936x432 with 1 Axes>"
      ]
     },
     "metadata": {
      "needs_background": "light"
     },
     "output_type": "display_data"
    }
   ],
   "source": [
    "#Type and Rating\n",
    "type_plt=pd.crosstab(zomato['rate'],zomato['type'])\n",
    "type_plt.plot(kind='bar',stacked=True);\n",
    "plt.title('Type - Rating',fontsize=15,fontweight='bold')\n",
    "plt.ylabel('Type',fontsize=10,fontweight='bold')\n",
    "plt.xlabel('Rating',fontsize=10,fontweight='bold')\n",
    "plt.xticks(fontsize=10,fontweight='bold')\n",
    "plt.yticks(fontsize=10,fontweight='bold');"
   ]
  },
  {
   "cell_type": "markdown",
   "metadata": {},
   "source": [
    "# APRIORI"
   ]
  },
  {
   "cell_type": "code",
   "execution_count": 39,
   "metadata": {},
   "outputs": [
    {
     "data": {
      "text/html": [
       "<div>\n",
       "<style scoped>\n",
       "    .dataframe tbody tr th:only-of-type {\n",
       "        vertical-align: middle;\n",
       "    }\n",
       "\n",
       "    .dataframe tbody tr th {\n",
       "        vertical-align: top;\n",
       "    }\n",
       "\n",
       "    .dataframe thead th {\n",
       "        text-align: right;\n",
       "    }\n",
       "</style>\n",
       "<table border=\"1\" class=\"dataframe\">\n",
       "  <thead>\n",
       "    <tr style=\"text-align: right;\">\n",
       "      <th></th>\n",
       "      <th>address</th>\n",
       "      <th>name</th>\n",
       "      <th>online_order</th>\n",
       "      <th>book_table</th>\n",
       "      <th>rate</th>\n",
       "      <th>votes</th>\n",
       "      <th>location</th>\n",
       "      <th>rest_type</th>\n",
       "      <th>dish_liked</th>\n",
       "      <th>cuisines</th>\n",
       "      <th>...</th>\n",
       "      <th>menu_item</th>\n",
       "      <th>type</th>\n",
       "      <th>city</th>\n",
       "      <th>Dish-1</th>\n",
       "      <th>Dish-2</th>\n",
       "      <th>Dish-3</th>\n",
       "      <th>Cuisine-1</th>\n",
       "      <th>Cuisine-2</th>\n",
       "      <th>Cuisine-3</th>\n",
       "      <th>row_num</th>\n",
       "    </tr>\n",
       "  </thead>\n",
       "  <tbody>\n",
       "    <tr>\n",
       "      <th>0</th>\n",
       "      <td>942, 21st Main Road, 2nd Stage, Banashankari, ...</td>\n",
       "      <td>Jalsa</td>\n",
       "      <td>Yes</td>\n",
       "      <td>Yes</td>\n",
       "      <td>4.1</td>\n",
       "      <td>775</td>\n",
       "      <td>Banashankari</td>\n",
       "      <td>Casual Dining</td>\n",
       "      <td>Pasta, Lunch Buffet, Masala Papad, Paneer Laja...</td>\n",
       "      <td>North Indian, Mughlai, Chinese</td>\n",
       "      <td>...</td>\n",
       "      <td>[]</td>\n",
       "      <td>Buffet</td>\n",
       "      <td>Banashankari</td>\n",
       "      <td>Pasta</td>\n",
       "      <td>Lunch Buffet</td>\n",
       "      <td>Masala Papad</td>\n",
       "      <td>North Indian</td>\n",
       "      <td>Mughlai</td>\n",
       "      <td>Chinese</td>\n",
       "      <td>0</td>\n",
       "    </tr>\n",
       "    <tr>\n",
       "      <th>1</th>\n",
       "      <td>2nd Floor, 80 Feet Road, Near Big Bazaar, 6th ...</td>\n",
       "      <td>Spice Elephant</td>\n",
       "      <td>Yes</td>\n",
       "      <td>No</td>\n",
       "      <td>4.1</td>\n",
       "      <td>787</td>\n",
       "      <td>Banashankari</td>\n",
       "      <td>Casual Dining</td>\n",
       "      <td>Momos, Lunch Buffet, Chocolate Nirvana, Thai G...</td>\n",
       "      <td>Chinese, North Indian, Thai</td>\n",
       "      <td>...</td>\n",
       "      <td>[]</td>\n",
       "      <td>Buffet</td>\n",
       "      <td>Banashankari</td>\n",
       "      <td>Momos</td>\n",
       "      <td>Lunch Buffet</td>\n",
       "      <td>Chocolate Nirvana</td>\n",
       "      <td>Chinese</td>\n",
       "      <td>North Indian</td>\n",
       "      <td>Thai</td>\n",
       "      <td>1</td>\n",
       "    </tr>\n",
       "    <tr>\n",
       "      <th>2</th>\n",
       "      <td>1112, Next to KIMS Medical College, 17th Cross...</td>\n",
       "      <td>San Churro Cafe</td>\n",
       "      <td>Yes</td>\n",
       "      <td>No</td>\n",
       "      <td>3.8</td>\n",
       "      <td>918</td>\n",
       "      <td>Banashankari</td>\n",
       "      <td>Cafe, Casual Dining</td>\n",
       "      <td>Churros, Cannelloni, Minestrone Soup, Hot Choc...</td>\n",
       "      <td>Cafe, Mexican, Italian</td>\n",
       "      <td>...</td>\n",
       "      <td>[]</td>\n",
       "      <td>Buffet</td>\n",
       "      <td>Banashankari</td>\n",
       "      <td>Churros</td>\n",
       "      <td>Cannelloni</td>\n",
       "      <td>Minestrone Soup</td>\n",
       "      <td>Cafe</td>\n",
       "      <td>Mexican</td>\n",
       "      <td>Italian</td>\n",
       "      <td>2</td>\n",
       "    </tr>\n",
       "    <tr>\n",
       "      <th>3</th>\n",
       "      <td>1st Floor, Annakuteera, 3rd Stage, Banashankar...</td>\n",
       "      <td>Addhuri Udupi Bhojana</td>\n",
       "      <td>No</td>\n",
       "      <td>No</td>\n",
       "      <td>3.7</td>\n",
       "      <td>88</td>\n",
       "      <td>Banashankari</td>\n",
       "      <td>Quick Bites</td>\n",
       "      <td>Masala Dosa</td>\n",
       "      <td>South Indian, North Indian</td>\n",
       "      <td>...</td>\n",
       "      <td>[]</td>\n",
       "      <td>Buffet</td>\n",
       "      <td>Banashankari</td>\n",
       "      <td>Masala Dosa</td>\n",
       "      <td>None</td>\n",
       "      <td>None</td>\n",
       "      <td>South Indian</td>\n",
       "      <td>North Indian</td>\n",
       "      <td>None</td>\n",
       "      <td>3</td>\n",
       "    </tr>\n",
       "    <tr>\n",
       "      <th>4</th>\n",
       "      <td>10, 3rd Floor, Lakshmi Associates, Gandhi Baza...</td>\n",
       "      <td>Grand Village</td>\n",
       "      <td>No</td>\n",
       "      <td>No</td>\n",
       "      <td>3.8</td>\n",
       "      <td>166</td>\n",
       "      <td>Basavanagudi</td>\n",
       "      <td>Casual Dining</td>\n",
       "      <td>Panipuri, Gol Gappe</td>\n",
       "      <td>North Indian, Rajasthani</td>\n",
       "      <td>...</td>\n",
       "      <td>[]</td>\n",
       "      <td>Buffet</td>\n",
       "      <td>Banashankari</td>\n",
       "      <td>Panipuri</td>\n",
       "      <td>Gol Gappe</td>\n",
       "      <td>None</td>\n",
       "      <td>North Indian</td>\n",
       "      <td>Rajasthani</td>\n",
       "      <td>None</td>\n",
       "      <td>4</td>\n",
       "    </tr>\n",
       "  </tbody>\n",
       "</table>\n",
       "<p>5 rows × 22 columns</p>\n",
       "</div>"
      ],
      "text/plain": [
       "                                             address                   name  \\\n",
       "0  942, 21st Main Road, 2nd Stage, Banashankari, ...                  Jalsa   \n",
       "1  2nd Floor, 80 Feet Road, Near Big Bazaar, 6th ...         Spice Elephant   \n",
       "2  1112, Next to KIMS Medical College, 17th Cross...        San Churro Cafe   \n",
       "3  1st Floor, Annakuteera, 3rd Stage, Banashankar...  Addhuri Udupi Bhojana   \n",
       "4  10, 3rd Floor, Lakshmi Associates, Gandhi Baza...          Grand Village   \n",
       "\n",
       "  online_order book_table  rate  votes      location            rest_type  \\\n",
       "0          Yes        Yes   4.1    775  Banashankari        Casual Dining   \n",
       "1          Yes         No   4.1    787  Banashankari        Casual Dining   \n",
       "2          Yes         No   3.8    918  Banashankari  Cafe, Casual Dining   \n",
       "3           No         No   3.7     88  Banashankari          Quick Bites   \n",
       "4           No         No   3.8    166  Basavanagudi        Casual Dining   \n",
       "\n",
       "                                          dish_liked  \\\n",
       "0  Pasta, Lunch Buffet, Masala Papad, Paneer Laja...   \n",
       "1  Momos, Lunch Buffet, Chocolate Nirvana, Thai G...   \n",
       "2  Churros, Cannelloni, Minestrone Soup, Hot Choc...   \n",
       "3                                        Masala Dosa   \n",
       "4                                Panipuri, Gol Gappe   \n",
       "\n",
       "                         cuisines  ...  menu_item    type          city  \\\n",
       "0  North Indian, Mughlai, Chinese  ...         []  Buffet  Banashankari   \n",
       "1     Chinese, North Indian, Thai  ...         []  Buffet  Banashankari   \n",
       "2          Cafe, Mexican, Italian  ...         []  Buffet  Banashankari   \n",
       "3      South Indian, North Indian  ...         []  Buffet  Banashankari   \n",
       "4        North Indian, Rajasthani  ...         []  Buffet  Banashankari   \n",
       "\n",
       "        Dish-1         Dish-2              Dish-3     Cuisine-1  \\\n",
       "0        Pasta   Lunch Buffet        Masala Papad  North Indian   \n",
       "1        Momos   Lunch Buffet   Chocolate Nirvana       Chinese   \n",
       "2      Churros     Cannelloni     Minestrone Soup          Cafe   \n",
       "3  Masala Dosa           None                None  South Indian   \n",
       "4     Panipuri      Gol Gappe                None  North Indian   \n",
       "\n",
       "       Cuisine-2 Cuisine-3 row_num  \n",
       "0        Mughlai   Chinese       0  \n",
       "1   North Indian      Thai       1  \n",
       "2        Mexican   Italian       2  \n",
       "3   North Indian      None       3  \n",
       "4     Rajasthani      None       4  \n",
       "\n",
       "[5 rows x 22 columns]"
      ]
     },
     "execution_count": 39,
     "metadata": {},
     "output_type": "execute_result"
    }
   ],
   "source": [
    "zomatoCopy['row_num'] = np.arange(len(zomatoCopy))\n",
    "zomatoCopy.head()"
   ]
  },
  {
   "cell_type": "code",
   "execution_count": 40,
   "metadata": {},
   "outputs": [
    {
     "data": {
      "text/html": [
       "<div>\n",
       "<style scoped>\n",
       "    .dataframe tbody tr th:only-of-type {\n",
       "        vertical-align: middle;\n",
       "    }\n",
       "\n",
       "    .dataframe tbody tr th {\n",
       "        vertical-align: top;\n",
       "    }\n",
       "\n",
       "    .dataframe thead th {\n",
       "        text-align: right;\n",
       "    }\n",
       "</style>\n",
       "<table border=\"1\" class=\"dataframe\">\n",
       "  <thead>\n",
       "    <tr style=\"text-align: right;\">\n",
       "      <th></th>\n",
       "      <th>row_num</th>\n",
       "    </tr>\n",
       "    <tr>\n",
       "      <th>location</th>\n",
       "      <th></th>\n",
       "    </tr>\n",
       "  </thead>\n",
       "  <tbody>\n",
       "    <tr>\n",
       "      <th>KR Puram</th>\n",
       "      <td>1</td>\n",
       "    </tr>\n",
       "    <tr>\n",
       "      <th>Kanakapura Road</th>\n",
       "      <td>2</td>\n",
       "    </tr>\n",
       "    <tr>\n",
       "      <th>Yelahanka</th>\n",
       "      <td>2</td>\n",
       "    </tr>\n",
       "    <tr>\n",
       "      <th>West Bangalore</th>\n",
       "      <td>2</td>\n",
       "    </tr>\n",
       "    <tr>\n",
       "      <th>Magadi Road</th>\n",
       "      <td>2</td>\n",
       "    </tr>\n",
       "    <tr>\n",
       "      <th>...</th>\n",
       "      <td>...</td>\n",
       "    </tr>\n",
       "    <tr>\n",
       "      <th>Jayanagar</th>\n",
       "      <td>1060</td>\n",
       "    </tr>\n",
       "    <tr>\n",
       "      <th>HSR</th>\n",
       "      <td>1170</td>\n",
       "    </tr>\n",
       "    <tr>\n",
       "      <th>Indiranagar</th>\n",
       "      <td>1355</td>\n",
       "    </tr>\n",
       "    <tr>\n",
       "      <th>BTM</th>\n",
       "      <td>1474</td>\n",
       "    </tr>\n",
       "    <tr>\n",
       "      <th>Koramangala 5th Block</th>\n",
       "      <td>1776</td>\n",
       "    </tr>\n",
       "  </tbody>\n",
       "</table>\n",
       "<p>88 rows × 1 columns</p>\n",
       "</div>"
      ],
      "text/plain": [
       "                       row_num\n",
       "location                      \n",
       "KR Puram                     1\n",
       "Kanakapura Road              2\n",
       "Yelahanka                    2\n",
       "West Bangalore               2\n",
       "Magadi Road                  2\n",
       "...                        ...\n",
       "Jayanagar                 1060\n",
       "HSR                       1170\n",
       "Indiranagar               1355\n",
       "BTM                       1474\n",
       "Koramangala 5th Block     1776\n",
       "\n",
       "[88 rows x 1 columns]"
      ]
     },
     "execution_count": 40,
     "metadata": {},
     "output_type": "execute_result"
    }
   ],
   "source": [
    "chk = zomatoCopy.groupby(['location'])[['row_num']].nunique()\n",
    "chk = chk.sort_values(by=['row_num'])\n",
    "chk"
   ]
  },
  {
   "cell_type": "code",
   "execution_count": 83,
   "metadata": {},
   "outputs": [],
   "source": [
    "s = ['Koramangala 5th Block','BTM','Indiranagar','HSR','Jayanagar','Whitefield']"
   ]
  },
  {
   "cell_type": "code",
   "execution_count": 84,
   "metadata": {},
   "outputs": [
    {
     "data": {
      "text/html": [
       "<div>\n",
       "<style scoped>\n",
       "    .dataframe tbody tr th:only-of-type {\n",
       "        vertical-align: middle;\n",
       "    }\n",
       "\n",
       "    .dataframe tbody tr th {\n",
       "        vertical-align: top;\n",
       "    }\n",
       "\n",
       "    .dataframe thead th {\n",
       "        text-align: right;\n",
       "    }\n",
       "</style>\n",
       "<table border=\"1\" class=\"dataframe\">\n",
       "  <thead>\n",
       "    <tr style=\"text-align: right;\">\n",
       "      <th></th>\n",
       "      <th>address</th>\n",
       "      <th>name</th>\n",
       "      <th>online_order</th>\n",
       "      <th>book_table</th>\n",
       "      <th>rate</th>\n",
       "      <th>votes</th>\n",
       "      <th>location</th>\n",
       "      <th>rest_type</th>\n",
       "      <th>dish_liked</th>\n",
       "      <th>cuisines</th>\n",
       "      <th>...</th>\n",
       "      <th>menu_item</th>\n",
       "      <th>type</th>\n",
       "      <th>city</th>\n",
       "      <th>Dish-1</th>\n",
       "      <th>Dish-2</th>\n",
       "      <th>Dish-3</th>\n",
       "      <th>Cuisine-1</th>\n",
       "      <th>Cuisine-2</th>\n",
       "      <th>Cuisine-3</th>\n",
       "      <th>row_num</th>\n",
       "    </tr>\n",
       "  </thead>\n",
       "  <tbody>\n",
       "    <tr>\n",
       "      <th>28</th>\n",
       "      <td>4, Opposite NMKRV College, 21st C Cross Road, ...</td>\n",
       "      <td>Empire Restaurant</td>\n",
       "      <td>Yes</td>\n",
       "      <td>No</td>\n",
       "      <td>4.4</td>\n",
       "      <td>4884</td>\n",
       "      <td>Jayanagar</td>\n",
       "      <td>Casual Dining</td>\n",
       "      <td>Chicken Tikka Masala, Mutton Keema Dosa, Mutto...</td>\n",
       "      <td>North Indian, Mughlai, South Indian, Chinese</td>\n",
       "      <td>...</td>\n",
       "      <td>[]</td>\n",
       "      <td>Delivery</td>\n",
       "      <td>Banashankari</td>\n",
       "      <td>Chicken Tikka Masala</td>\n",
       "      <td>Mutton Keema Dosa</td>\n",
       "      <td>Mutton Biryani</td>\n",
       "      <td>North Indian</td>\n",
       "      <td>Mughlai</td>\n",
       "      <td>South Indian</td>\n",
       "      <td>28</td>\n",
       "    </tr>\n",
       "    <tr>\n",
       "      <th>39</th>\n",
       "      <td>178, Next To Old KEB Office, 8th F Main Road, ...</td>\n",
       "      <td>Biryanis And More</td>\n",
       "      <td>Yes</td>\n",
       "      <td>No</td>\n",
       "      <td>4.0</td>\n",
       "      <td>618</td>\n",
       "      <td>Jayanagar</td>\n",
       "      <td>Casual Dining</td>\n",
       "      <td>Prawn Biryani, Dragon Chicken, Chicken Boneles...</td>\n",
       "      <td>Biryani, North Indian, Chinese, Andhra, South ...</td>\n",
       "      <td>...</td>\n",
       "      <td>[]</td>\n",
       "      <td>Delivery</td>\n",
       "      <td>Banashankari</td>\n",
       "      <td>Prawn Biryani</td>\n",
       "      <td>Dragon Chicken</td>\n",
       "      <td>Chicken Boneless Biryani</td>\n",
       "      <td>Biryani</td>\n",
       "      <td>North Indian</td>\n",
       "      <td>Chinese</td>\n",
       "      <td>39</td>\n",
       "    </tr>\n",
       "    <tr>\n",
       "      <th>53</th>\n",
       "      <td>52, 1st Floor, 33rd Cross, 4th Block, Jayanaga...</td>\n",
       "      <td>Meghana Foods</td>\n",
       "      <td>Yes</td>\n",
       "      <td>No</td>\n",
       "      <td>4.4</td>\n",
       "      <td>4401</td>\n",
       "      <td>Jayanagar</td>\n",
       "      <td>Casual Dining</td>\n",
       "      <td>Chicken Boneless Biryani, Hyderabadi Biryani, ...</td>\n",
       "      <td>Biryani, North Indian, Chinese</td>\n",
       "      <td>...</td>\n",
       "      <td>[]</td>\n",
       "      <td>Delivery</td>\n",
       "      <td>Banashankari</td>\n",
       "      <td>Chicken Boneless Biryani</td>\n",
       "      <td>Hyderabadi Biryani</td>\n",
       "      <td>Paneer Biryani</td>\n",
       "      <td>Biryani</td>\n",
       "      <td>North Indian</td>\n",
       "      <td>Chinese</td>\n",
       "      <td>53</td>\n",
       "    </tr>\n",
       "    <tr>\n",
       "      <th>64</th>\n",
       "      <td>155, 43rd Cross Road, 8th Block, Jayanagar, Ba...</td>\n",
       "      <td>Sri Udupi Food Hub</td>\n",
       "      <td>Yes</td>\n",
       "      <td>Yes</td>\n",
       "      <td>4.1</td>\n",
       "      <td>175</td>\n",
       "      <td>Jayanagar</td>\n",
       "      <td>Casual Dining</td>\n",
       "      <td>Filter Coffee, Masala Dosa, Idli, Vada</td>\n",
       "      <td>South Indian, North Indian, Chinese, Beverages</td>\n",
       "      <td>...</td>\n",
       "      <td>['Idili [2 pieces] with Vada [1 Piece]', 'Poor...</td>\n",
       "      <td>Delivery</td>\n",
       "      <td>Banashankari</td>\n",
       "      <td>Filter Coffee</td>\n",
       "      <td>Masala Dosa</td>\n",
       "      <td>Idli</td>\n",
       "      <td>South Indian</td>\n",
       "      <td>North Indian</td>\n",
       "      <td>Chinese</td>\n",
       "      <td>64</td>\n",
       "    </tr>\n",
       "    <tr>\n",
       "      <th>69</th>\n",
       "      <td>1A/29 , Shop 2 , 27th Cross, Jayanagar, Bangalore</td>\n",
       "      <td>Roll Over</td>\n",
       "      <td>Yes</td>\n",
       "      <td>No</td>\n",
       "      <td>4.1</td>\n",
       "      <td>438</td>\n",
       "      <td>Jayanagar</td>\n",
       "      <td>Dessert Parlor</td>\n",
       "      <td>Rolls, Ice Cream Roll, Paan Ice Cream, Coffee,...</td>\n",
       "      <td>Desserts, Ice Cream, Beverages, Fast Food, San...</td>\n",
       "      <td>...</td>\n",
       "      <td>[]</td>\n",
       "      <td>Delivery</td>\n",
       "      <td>Banashankari</td>\n",
       "      <td>Rolls</td>\n",
       "      <td>Ice Cream Roll</td>\n",
       "      <td>Paan Ice Cream</td>\n",
       "      <td>Desserts</td>\n",
       "      <td>Ice Cream</td>\n",
       "      <td>Beverages</td>\n",
       "      <td>69</td>\n",
       "    </tr>\n",
       "  </tbody>\n",
       "</table>\n",
       "<p>5 rows × 22 columns</p>\n",
       "</div>"
      ],
      "text/plain": [
       "                                              address                name  \\\n",
       "28  4, Opposite NMKRV College, 21st C Cross Road, ...   Empire Restaurant   \n",
       "39  178, Next To Old KEB Office, 8th F Main Road, ...   Biryanis And More   \n",
       "53  52, 1st Floor, 33rd Cross, 4th Block, Jayanaga...       Meghana Foods   \n",
       "64  155, 43rd Cross Road, 8th Block, Jayanagar, Ba...  Sri Udupi Food Hub   \n",
       "69  1A/29 , Shop 2 , 27th Cross, Jayanagar, Bangalore           Roll Over   \n",
       "\n",
       "   online_order book_table  rate  votes   location       rest_type  \\\n",
       "28          Yes         No   4.4   4884  Jayanagar   Casual Dining   \n",
       "39          Yes         No   4.0    618  Jayanagar   Casual Dining   \n",
       "53          Yes         No   4.4   4401  Jayanagar   Casual Dining   \n",
       "64          Yes        Yes   4.1    175  Jayanagar   Casual Dining   \n",
       "69          Yes         No   4.1    438  Jayanagar  Dessert Parlor   \n",
       "\n",
       "                                           dish_liked  \\\n",
       "28  Chicken Tikka Masala, Mutton Keema Dosa, Mutto...   \n",
       "39  Prawn Biryani, Dragon Chicken, Chicken Boneles...   \n",
       "53  Chicken Boneless Biryani, Hyderabadi Biryani, ...   \n",
       "64             Filter Coffee, Masala Dosa, Idli, Vada   \n",
       "69  Rolls, Ice Cream Roll, Paan Ice Cream, Coffee,...   \n",
       "\n",
       "                                             cuisines  ...  \\\n",
       "28       North Indian, Mughlai, South Indian, Chinese  ...   \n",
       "39  Biryani, North Indian, Chinese, Andhra, South ...  ...   \n",
       "53                     Biryani, North Indian, Chinese  ...   \n",
       "64     South Indian, North Indian, Chinese, Beverages  ...   \n",
       "69  Desserts, Ice Cream, Beverages, Fast Food, San...  ...   \n",
       "\n",
       "                                            menu_item      type          city  \\\n",
       "28                                                 []  Delivery  Banashankari   \n",
       "39                                                 []  Delivery  Banashankari   \n",
       "53                                                 []  Delivery  Banashankari   \n",
       "64  ['Idili [2 pieces] with Vada [1 Piece]', 'Poor...  Delivery  Banashankari   \n",
       "69                                                 []  Delivery  Banashankari   \n",
       "\n",
       "                      Dish-1               Dish-2                     Dish-3  \\\n",
       "28      Chicken Tikka Masala    Mutton Keema Dosa             Mutton Biryani   \n",
       "39             Prawn Biryani       Dragon Chicken   Chicken Boneless Biryani   \n",
       "53  Chicken Boneless Biryani   Hyderabadi Biryani             Paneer Biryani   \n",
       "64             Filter Coffee          Masala Dosa                       Idli   \n",
       "69                     Rolls       Ice Cream Roll             Paan Ice Cream   \n",
       "\n",
       "       Cuisine-1      Cuisine-2      Cuisine-3 row_num  \n",
       "28  North Indian        Mughlai   South Indian      28  \n",
       "39       Biryani   North Indian        Chinese      39  \n",
       "53       Biryani   North Indian        Chinese      53  \n",
       "64  South Indian   North Indian        Chinese      64  \n",
       "69      Desserts      Ice Cream      Beverages      69  \n",
       "\n",
       "[5 rows x 22 columns]"
      ]
     },
     "execution_count": 84,
     "metadata": {},
     "output_type": "execute_result"
    }
   ],
   "source": [
    "total = zomatoCopy[zomatoCopy['location'].isin(s)]\n",
    "total.head()"
   ]
  },
  {
   "cell_type": "code",
   "execution_count": 85,
   "metadata": {},
   "outputs": [],
   "source": [
    "basket = total.groupby(['row_num','cuisines'])['cost'].sum().unstack().reset_index().fillna(0).set_index('row_num')"
   ]
  },
  {
   "cell_type": "code",
   "execution_count": 44,
   "metadata": {},
   "outputs": [],
   "source": [
    "basket_koramagala = (total[total['location'] ==\"Koramangala 5th Block\"]\n",
    "          .groupby(['row_num', 'cuisines'])['cost']\n",
    "          .sum().unstack().reset_index().fillna(0)\n",
    "          .set_index('row_num'))"
   ]
  },
  {
   "cell_type": "code",
   "execution_count": 45,
   "metadata": {},
   "outputs": [],
   "source": [
    "basket_BTM = (total[total['location'] ==\"BTM\"]\n",
    "          .groupby(['row_num', 'cuisines'])['cost']\n",
    "          .sum().unstack().reset_index().fillna(0)\n",
    "          .set_index('row_num'))"
   ]
  },
  {
   "cell_type": "code",
   "execution_count": 46,
   "metadata": {},
   "outputs": [],
   "source": [
    "basket_Indiranagar = (total[total['location'] ==\"Indiranagar\"]\n",
    "          .groupby(['row_num', 'cuisines'])['cost']\n",
    "          .sum().unstack().reset_index().fillna(0)\n",
    "          .set_index('row_num'))"
   ]
  },
  {
   "cell_type": "code",
   "execution_count": 47,
   "metadata": {},
   "outputs": [],
   "source": [
    "basket_HSR = (total[total['location'] ==\"HSR\"]\n",
    "          .groupby(['row_num', 'cuisines'])['cost']\n",
    "          .sum().unstack().reset_index().fillna(0)\n",
    "          .set_index('row_num'))"
   ]
  },
  {
   "cell_type": "code",
   "execution_count": 48,
   "metadata": {},
   "outputs": [],
   "source": [
    "basket_Jayanagar = (total[total['location'] ==\"Jayanagar\"]\n",
    "          .groupby(['row_num', 'cuisines'])['cost']\n",
    "          .sum().unstack().reset_index().fillna(0)\n",
    "          .set_index('row_num'))"
   ]
  },
  {
   "cell_type": "code",
   "execution_count": 49,
   "metadata": {},
   "outputs": [],
   "source": [
    "def hot_encode(x):\n",
    "    if(x<= 0):\n",
    "        return 0\n",
    "    if(x>= 1):\n",
    "        return 1\n"
   ]
  },
  {
   "cell_type": "code",
   "execution_count": 50,
   "metadata": {},
   "outputs": [],
   "source": [
    "basket_encoded1 = basket_koramagala.applymap(hot_encode)\n",
    "basket_koramagala = basket_encoded1\n",
    "\n",
    "basket_encoded2 = basket_BTM.applymap(hot_encode)\n",
    "basket_BTM = basket_encoded2\n",
    "\n",
    "basket_encoded3 = basket_Indiranagar.applymap(hot_encode)\n",
    "basket_Indiranagar=basket_encoded3"
   ]
  },
  {
   "cell_type": "code",
   "execution_count": 51,
   "metadata": {},
   "outputs": [],
   "source": [
    "#Kormangala\n",
    "frequent_itemsets_koramagala = apriori(basket_koramagala, min_support=0.003, use_colnames=True)\n",
    "rules_koramagala = association_rules(frequent_itemsets_koramagala, metric=\"lift\", min_threshold=1)"
   ]
  },
  {
   "cell_type": "code",
   "execution_count": 52,
   "metadata": {},
   "outputs": [
    {
     "data": {
      "text/html": [
       "<div>\n",
       "<style scoped>\n",
       "    .dataframe tbody tr th:only-of-type {\n",
       "        vertical-align: middle;\n",
       "    }\n",
       "\n",
       "    .dataframe tbody tr th {\n",
       "        vertical-align: top;\n",
       "    }\n",
       "\n",
       "    .dataframe thead th {\n",
       "        text-align: right;\n",
       "    }\n",
       "</style>\n",
       "<table border=\"1\" class=\"dataframe\">\n",
       "  <thead>\n",
       "    <tr style=\"text-align: right;\">\n",
       "      <th></th>\n",
       "      <th>support</th>\n",
       "      <th>itemsets</th>\n",
       "    </tr>\n",
       "  </thead>\n",
       "  <tbody>\n",
       "    <tr>\n",
       "      <th>0</th>\n",
       "      <td>0.003378</td>\n",
       "      <td>(Andhra, Biryani, Chinese)</td>\n",
       "    </tr>\n",
       "    <tr>\n",
       "      <th>1</th>\n",
       "      <td>0.005631</td>\n",
       "      <td>(Andhra, Biryani, North Indian, Chinese)</td>\n",
       "    </tr>\n",
       "    <tr>\n",
       "      <th>2</th>\n",
       "      <td>0.005631</td>\n",
       "      <td>(Andhra, North Indian, Biryani)</td>\n",
       "    </tr>\n",
       "    <tr>\n",
       "      <th>3</th>\n",
       "      <td>0.003941</td>\n",
       "      <td>(Andhra, North Indian, Chinese)</td>\n",
       "    </tr>\n",
       "    <tr>\n",
       "      <th>4</th>\n",
       "      <td>0.003378</td>\n",
       "      <td>(Arabian)</td>\n",
       "    </tr>\n",
       "    <tr>\n",
       "      <th>...</th>\n",
       "      <td>...</td>\n",
       "      <td>...</td>\n",
       "    </tr>\n",
       "    <tr>\n",
       "      <th>121</th>\n",
       "      <td>0.005068</td>\n",
       "      <td>(South Indian, North Indian, Chinese, Street F...</td>\n",
       "    </tr>\n",
       "    <tr>\n",
       "      <th>122</th>\n",
       "      <td>0.006194</td>\n",
       "      <td>(Tibetan, Chinese, Continental, Momos)</td>\n",
       "    </tr>\n",
       "    <tr>\n",
       "      <th>123</th>\n",
       "      <td>0.006194</td>\n",
       "      <td>(Tibetan, Nepalese, Momos)</td>\n",
       "    </tr>\n",
       "    <tr>\n",
       "      <th>124</th>\n",
       "      <td>0.006194</td>\n",
       "      <td>(Turkish, Desserts)</td>\n",
       "    </tr>\n",
       "    <tr>\n",
       "      <th>125</th>\n",
       "      <td>0.003378</td>\n",
       "      <td>(Turkish, Rolls)</td>\n",
       "    </tr>\n",
       "  </tbody>\n",
       "</table>\n",
       "<p>126 rows × 2 columns</p>\n",
       "</div>"
      ],
      "text/plain": [
       "      support                                           itemsets\n",
       "0    0.003378                         (Andhra, Biryani, Chinese)\n",
       "1    0.005631           (Andhra, Biryani, North Indian, Chinese)\n",
       "2    0.005631                    (Andhra, North Indian, Biryani)\n",
       "3    0.003941                    (Andhra, North Indian, Chinese)\n",
       "4    0.003378                                          (Arabian)\n",
       "..        ...                                                ...\n",
       "121  0.005068  (South Indian, North Indian, Chinese, Street F...\n",
       "122  0.006194             (Tibetan, Chinese, Continental, Momos)\n",
       "123  0.006194                         (Tibetan, Nepalese, Momos)\n",
       "124  0.006194                                (Turkish, Desserts)\n",
       "125  0.003378                                   (Turkish, Rolls)\n",
       "\n",
       "[126 rows x 2 columns]"
      ]
     },
     "execution_count": 52,
     "metadata": {},
     "output_type": "execute_result"
    }
   ],
   "source": [
    "frequent_itemsets_koramagala"
   ]
  },
  {
   "cell_type": "code",
   "execution_count": 53,
   "metadata": {},
   "outputs": [],
   "source": [
    "#BTM\n",
    "frequent_itemsets_BTM = apriori(basket_BTM, min_support=0.003, use_colnames=True)\n",
    "rules_BTM = association_rules(frequent_itemsets_BTM, metric=\"lift\", min_threshold=1)"
   ]
  },
  {
   "cell_type": "code",
   "execution_count": 80,
   "metadata": {},
   "outputs": [
    {
     "data": {
      "text/html": [
       "<div>\n",
       "<style scoped>\n",
       "    .dataframe tbody tr th:only-of-type {\n",
       "        vertical-align: middle;\n",
       "    }\n",
       "\n",
       "    .dataframe tbody tr th {\n",
       "        vertical-align: top;\n",
       "    }\n",
       "\n",
       "    .dataframe thead th {\n",
       "        text-align: right;\n",
       "    }\n",
       "</style>\n",
       "<table border=\"1\" class=\"dataframe\">\n",
       "  <thead>\n",
       "    <tr style=\"text-align: right;\">\n",
       "      <th></th>\n",
       "      <th>antecedents</th>\n",
       "      <th>consequents</th>\n",
       "      <th>antecedent support</th>\n",
       "      <th>consequent support</th>\n",
       "      <th>support</th>\n",
       "      <th>confidence</th>\n",
       "      <th>lift</th>\n",
       "      <th>leverage</th>\n",
       "      <th>conviction</th>\n",
       "    </tr>\n",
       "  </thead>\n",
       "  <tbody>\n",
       "  </tbody>\n",
       "</table>\n",
       "</div>"
      ],
      "text/plain": [
       "Empty DataFrame\n",
       "Columns: [antecedents, consequents, antecedent support, consequent support, support, confidence, lift, leverage, conviction]\n",
       "Index: []"
      ]
     },
     "execution_count": 80,
     "metadata": {},
     "output_type": "execute_result"
    }
   ],
   "source": [
    "frequent_itemsets_BTM"
   ]
  },
  {
   "cell_type": "code",
   "execution_count": 55,
   "metadata": {},
   "outputs": [],
   "source": [
    "#basket_Indiranagar\n",
    "frequent_itemsets_Indiranagar = apriori(basket_Indiranagar, min_support=0.003, use_colnames=True)\n",
    "rules_BTM = association_rules(frequent_itemsets_Indiranagar, metric=\"lift\", min_threshold=1)"
   ]
  },
  {
   "cell_type": "markdown",
   "metadata": {},
   "source": [
    "# BOT CODE"
   ]
  },
  {
   "cell_type": "code",
   "execution_count": 111,
   "metadata": {},
   "outputs": [],
   "source": [
    "def cusineRec():\n",
    "    print('Let me know your prefered Area')\n",
    "    area = input()\n",
    "    basket_area = (total[total['location'] ==str(area)]\n",
    "              .groupby(['row_num', 'cuisines'])['cost']\n",
    "              .sum().unstack().reset_index().fillna(0)\n",
    "              .set_index('row_num'))\n",
    "\n",
    "    basket_encoded1 = basket_area.applymap(hot_encode)\n",
    "    basket_area = basket_encoded1\n",
    "\n",
    "    frequent_itemsets_area = apriori(basket_area, min_support=0.003, use_colnames=True)\n",
    "\n",
    "    frequent_itemsets_area = frequent_itemsets_area.sort_values('support',ascending=False)\n",
    "    name = frequent_itemsets_area['itemsets'].values[0]\n",
    "    value, = name\n",
    "\n",
    "    print('The Famous cusine in '+str(area) + ' is ' + str(value))"
   ]
  },
  {
   "cell_type": "code",
   "execution_count": 109,
   "metadata": {},
   "outputs": [],
   "source": [
    "def restaurantBasedOnLocation(a,b):\n",
    "    subdf = zomato[(zomato['Area'].astype(str).str.contains(a,case=False))&(zomato['rest_type'].astype(str).str.contains(b,case=False))]\n",
    "    subdf = subdf.sort_values('rate',ascending=False)\n",
    "    subdf = subdf.drop_duplicates(subset=['name'], keep='first').head(n=3)\n",
    "    return subdf['name'].values"
   ]
  },
  {
   "cell_type": "code",
   "execution_count": 75,
   "metadata": {},
   "outputs": [],
   "source": [
    "def rating(a):\n",
    "    subdf = zomato[(zomato['name'].astype(str).str.contains(a,case=False))]\n",
    "    subdf = subdf.sort_values('rate',ascending=False)\n",
    "    subdf = subdf.drop_duplicates(subset=['name'], keep='first').head(n=3)\n",
    "    val = subdf['rate'].values[0]\n",
    "    name = subdf['name'].values[0]\n",
    "    print('Rating of ' + str(name)+ ' is ' + str(val))"
   ]
  },
  {
   "cell_type": "code",
   "execution_count": 113,
   "metadata": {
    "scrolled": true
   },
   "outputs": [
    {
     "name": "stdout",
     "output_type": "stream",
     "text": [
      "Hello! My name is Akshaya Patra.\n",
      "I am here to help you with your order.\n",
      "\n",
      "Please, remind me your name.\n",
      "ss\n",
      "What a great name you have, ss!\n",
      "\n",
      "Select the choice\n",
      "1. Restaurant Recomendation\n",
      "2. Restaurant rating\n",
      "3. Cusines Recomendation for the area\n",
      "3\n",
      "Let me know your prefered Area\n",
      "HSR\n",
      "The Famous cusine in HSR is North Indian\n",
      ".................................\n",
      "Thank you! Have a great Day!\n",
      ".................................\n"
     ]
    }
   ],
   "source": [
    "def recem():\n",
    "    print('Let me know your prefered Area')\n",
    "    area = input()\n",
    "    print('')\n",
    "    print('Select the restaurant type')\n",
    "    DineType = input() \n",
    "    area= str(area)\n",
    "    DineType = str(DineType)\n",
    "    li1 = restaurantBasedOnLocation(area,DineType)\n",
    "    print('.................................')\n",
    "    print('.................................')\n",
    "    print('List of the top Three recommended Restaurants')\n",
    "    print('1 ' +li1[0])\n",
    "    print('2 ' +li1[1])    \n",
    "    print('3 ' +li1[2])\n",
    "\n",
    "def greet(bot_name):\n",
    "    print(\"Hello! My name is {0}.\".format(bot_name))\n",
    "    print(\"I am here to help you with your order.\")\n",
    "    print('')\n",
    "\n",
    "\n",
    "def remind_name():\n",
    "    print('Please, remind me your name.')\n",
    "    name = input()\n",
    "    print(\"What a great name you have, {0}!\".format(name))\n",
    "    print('')\n",
    "\n",
    "\n",
    "def end():\n",
    "    print('.................................')\n",
    "    print('Thank you! Have a great Day!')   \n",
    "    print('.................................')\n",
    "\n",
    "def restRec():\n",
    "    print('Select the choice')\n",
    "    print('1. Restaurant Recomendation')\n",
    "    print('2. Restaurant rating')\n",
    "    print('3. Cusines Recomendation for the area')\n",
    "    \n",
    "    choice = input()\n",
    "    \n",
    "    if(int(choice) == 1):\n",
    "        recem()\n",
    "    elif(int(choice) == 2):\n",
    "        print('Enter name of the restaurant')\n",
    "        resta = input()\n",
    "        rating(str(resta))\n",
    "    elif(int(choice) == 3):      \n",
    "        cusineRec()\n",
    "    else:\n",
    "        print('Invalid option')\n",
    "        print('Please try Again')\n",
    "        restRec()\n",
    "\n",
    "    \n",
    "greet('Akshaya Patra')  # change it as you need\n",
    "remind_name()\n",
    "restRec()\n",
    "end()\n",
    "\n"
   ]
  },
  {
   "cell_type": "code",
   "execution_count": null,
   "metadata": {},
   "outputs": [],
   "source": []
  },
  {
   "cell_type": "code",
   "execution_count": null,
   "metadata": {},
   "outputs": [],
   "source": []
  },
  {
   "cell_type": "code",
   "execution_count": null,
   "metadata": {},
   "outputs": [],
   "source": []
  }
 ],
 "metadata": {
  "kernelspec": {
   "display_name": "Python 3",
   "language": "python",
   "name": "python3"
  },
  "language_info": {
   "codemirror_mode": {
    "name": "ipython",
    "version": 3
   },
   "file_extension": ".py",
   "mimetype": "text/x-python",
   "name": "python",
   "nbconvert_exporter": "python",
   "pygments_lexer": "ipython3",
   "version": "3.7.6"
  }
 },
 "nbformat": 4,
 "nbformat_minor": 5
}
